{
  "nbformat": 4,
  "nbformat_minor": 0,
  "metadata": {
    "colab": {
      "name": "Untitled3.ipynb",
      "version": "0.3.2",
      "provenance": [],
      "include_colab_link": true
    },
    "kernelspec": {
      "name": "python3",
      "display_name": "Python 3"
    }
  },
  "cells": [
    {
      "cell_type": "markdown",
      "metadata": {
        "id": "view-in-github",
        "colab_type": "text"
      },
      "source": [
        "[View in Colaboratory](https://colab.research.google.com/github/rupamcyrax799/ML-learning/blob/master/FILE%201.ipynb)"
      ]
    },
    {
      "metadata": {
        "id": "585Jq6O-GKgs",
        "colab_type": "code",
        "colab": {}
      },
      "cell_type": "code",
      "source": [
        "import numpy as ny\n",
        "import pandas as pd\n",
        "from sklearn import datasets,linear_model\n",
        "from sklearn.model_selection import train_test_split,KFold"
      ],
      "execution_count": 0,
      "outputs": []
    },
    {
      "metadata": {
        "id": "W1NiRT6gA-Jt",
        "colab_type": "code",
        "colab": {}
      },
      "cell_type": "code",
      "source": [
        "diabetes=datasets.load_diabetes()"
      ],
      "execution_count": 0,
      "outputs": []
    },
    {
      "metadata": {
        "id": "6uP2fXnxIQs_",
        "colab_type": "code",
        "colab": {
          "base_uri": "https://localhost:8080/",
          "height": 938
        },
        "outputId": "335d6c18-f5cf-4125-d71a-2d726b5210e6"
      },
      "cell_type": "code",
      "source": [
        "print(diabetes)"
      ],
      "execution_count": 8,
      "outputs": [
        {
          "output_type": "stream",
          "text": [
            "{'data': array([[ 0.03807591,  0.05068012,  0.06169621, ..., -0.00259226,\n",
            "         0.01990842, -0.01764613],\n",
            "       [-0.00188202, -0.04464164, -0.05147406, ..., -0.03949338,\n",
            "        -0.06832974, -0.09220405],\n",
            "       [ 0.08529891,  0.05068012,  0.04445121, ..., -0.00259226,\n",
            "         0.00286377, -0.02593034],\n",
            "       ...,\n",
            "       [ 0.04170844,  0.05068012, -0.01590626, ..., -0.01107952,\n",
            "        -0.04687948,  0.01549073],\n",
            "       [-0.04547248, -0.04464164,  0.03906215, ...,  0.02655962,\n",
            "         0.04452837, -0.02593034],\n",
            "       [-0.04547248, -0.04464164, -0.0730303 , ..., -0.03949338,\n",
            "        -0.00421986,  0.00306441]]), 'target': array([151.,  75., 141., 206., 135.,  97., 138.,  63., 110., 310., 101.,\n",
            "        69., 179., 185., 118., 171., 166., 144.,  97., 168.,  68.,  49.,\n",
            "        68., 245., 184., 202., 137.,  85., 131., 283., 129.,  59., 341.,\n",
            "        87.,  65., 102., 265., 276., 252.,  90., 100.,  55.,  61.,  92.,\n",
            "       259.,  53., 190., 142.,  75., 142., 155., 225.,  59., 104., 182.,\n",
            "       128.,  52.,  37., 170., 170.,  61., 144.,  52., 128.,  71., 163.,\n",
            "       150.,  97., 160., 178.,  48., 270., 202., 111.,  85.,  42., 170.,\n",
            "       200., 252., 113., 143.,  51.,  52., 210.,  65., 141.,  55., 134.,\n",
            "        42., 111.,  98., 164.,  48.,  96.,  90., 162., 150., 279.,  92.,\n",
            "        83., 128., 102., 302., 198.,  95.,  53., 134., 144., 232.,  81.,\n",
            "       104.,  59., 246., 297., 258., 229., 275., 281., 179., 200., 200.,\n",
            "       173., 180.,  84., 121., 161.,  99., 109., 115., 268., 274., 158.,\n",
            "       107.,  83., 103., 272.,  85., 280., 336., 281., 118., 317., 235.,\n",
            "        60., 174., 259., 178., 128.,  96., 126., 288.,  88., 292.,  71.,\n",
            "       197., 186.,  25.,  84.,  96., 195.,  53., 217., 172., 131., 214.,\n",
            "        59.,  70., 220., 268., 152.,  47.,  74., 295., 101., 151., 127.,\n",
            "       237., 225.,  81., 151., 107.,  64., 138., 185., 265., 101., 137.,\n",
            "       143., 141.,  79., 292., 178.,  91., 116.,  86., 122.,  72., 129.,\n",
            "       142.,  90., 158.,  39., 196., 222., 277.,  99., 196., 202., 155.,\n",
            "        77., 191.,  70.,  73.,  49.,  65., 263., 248., 296., 214., 185.,\n",
            "        78.,  93., 252., 150.,  77., 208.,  77., 108., 160.,  53., 220.,\n",
            "       154., 259.,  90., 246., 124.,  67.,  72., 257., 262., 275., 177.,\n",
            "        71.,  47., 187., 125.,  78.,  51., 258., 215., 303., 243.,  91.,\n",
            "       150., 310., 153., 346.,  63.,  89.,  50.,  39., 103., 308., 116.,\n",
            "       145.,  74.,  45., 115., 264.,  87., 202., 127., 182., 241.,  66.,\n",
            "        94., 283.,  64., 102., 200., 265.,  94., 230., 181., 156., 233.,\n",
            "        60., 219.,  80.,  68., 332., 248.,  84., 200.,  55.,  85.,  89.,\n",
            "        31., 129.,  83., 275.,  65., 198., 236., 253., 124.,  44., 172.,\n",
            "       114., 142., 109., 180., 144., 163., 147.,  97., 220., 190., 109.,\n",
            "       191., 122., 230., 242., 248., 249., 192., 131., 237.,  78., 135.,\n",
            "       244., 199., 270., 164.,  72.,  96., 306.,  91., 214.,  95., 216.,\n",
            "       263., 178., 113., 200., 139., 139.,  88., 148.,  88., 243.,  71.,\n",
            "        77., 109., 272.,  60.,  54., 221.,  90., 311., 281., 182., 321.,\n",
            "        58., 262., 206., 233., 242., 123., 167.,  63., 197.,  71., 168.,\n",
            "       140., 217., 121., 235., 245.,  40.,  52., 104., 132.,  88.,  69.,\n",
            "       219.,  72., 201., 110.,  51., 277.,  63., 118.,  69., 273., 258.,\n",
            "        43., 198., 242., 232., 175.,  93., 168., 275., 293., 281.,  72.,\n",
            "       140., 189., 181., 209., 136., 261., 113., 131., 174., 257.,  55.,\n",
            "        84.,  42., 146., 212., 233.,  91., 111., 152., 120.,  67., 310.,\n",
            "        94., 183.,  66., 173.,  72.,  49.,  64.,  48., 178., 104., 132.,\n",
            "       220.,  57.]), 'DESCR': 'Diabetes dataset\\n================\\n\\nNotes\\n-----\\n\\nTen baseline variables, age, sex, body mass index, average blood\\npressure, and six blood serum measurements were obtained for each of n =\\n442 diabetes patients, as well as the response of interest, a\\nquantitative measure of disease progression one year after baseline.\\n\\nData Set Characteristics:\\n\\n  :Number of Instances: 442\\n\\n  :Number of Attributes: First 10 columns are numeric predictive values\\n\\n  :Target: Column 11 is a quantitative measure of disease progression one year after baseline\\n\\n  :Attributes:\\n    :Age:\\n    :Sex:\\n    :Body mass index:\\n    :Average blood pressure:\\n    :S1:\\n    :S2:\\n    :S3:\\n    :S4:\\n    :S5:\\n    :S6:\\n\\nNote: Each of these 10 feature variables have been mean centered and scaled by the standard deviation times `n_samples` (i.e. the sum of squares of each column totals 1).\\n\\nSource URL:\\nhttp://www4.stat.ncsu.edu/~boos/var.select/diabetes.html\\n\\nFor more information see:\\nBradley Efron, Trevor Hastie, Iain Johnstone and Robert Tibshirani (2004) \"Least Angle Regression,\" Annals of Statistics (with discussion), 407-499.\\n(http://web.stanford.edu/~hastie/Papers/LARS/LeastAngle_2002.pdf)\\n', 'feature_names': ['age', 'sex', 'bmi', 'bp', 's1', 's2', 's3', 's4', 's5', 's6']}\n"
          ],
          "name": "stdout"
        }
      ]
    },
    {
      "metadata": {
        "id": "-fK7nfo7H9n-",
        "colab_type": "code",
        "colab": {}
      },
      "cell_type": "code",
      "source": [
        "columns=\"AGE SEX BMI MAP TC LDL HDL TCH LTG GLU\".split()"
      ],
      "execution_count": 0,
      "outputs": []
    },
    {
      "metadata": {
        "id": "1EGLVnpOI_Mu",
        "colab_type": "code",
        "colab": {
          "base_uri": "https://localhost:8080/",
          "height": 34
        },
        "outputId": "0a71967b-9482-4bab-a5a3-71e96f4a594b"
      },
      "cell_type": "code",
      "source": [
        "print(columns)"
      ],
      "execution_count": 10,
      "outputs": [
        {
          "output_type": "stream",
          "text": [
            "['Age', 'Sex', 'BMI', 'Map', 'TC', 'LDL', 'HDL', 'TCH', 'LTG', 'GLU']\n"
          ],
          "name": "stdout"
        }
      ]
    },
    {
      "metadata": {
        "id": "q4AzLWRTJCT4",
        "colab_type": "code",
        "colab": {}
      },
      "cell_type": "code",
      "source": [
        "df=pd.DataFrame(diabetes.data,columns=columns)"
      ],
      "execution_count": 0,
      "outputs": []
    },
    {
      "metadata": {
        "id": "Qi_uui1fJeEj",
        "colab_type": "code",
        "colab": {
          "base_uri": "https://localhost:8080/",
          "height": 204
        },
        "outputId": "7fb301da-c430-47f5-b43a-14e7dcdc78f9"
      },
      "cell_type": "code",
      "source": [
        "df.head()"
      ],
      "execution_count": 14,
      "outputs": [
        {
          "output_type": "execute_result",
          "data": {
            "text/html": [
              "<div>\n",
              "<style scoped>\n",
              "    .dataframe tbody tr th:only-of-type {\n",
              "        vertical-align: middle;\n",
              "    }\n",
              "\n",
              "    .dataframe tbody tr th {\n",
              "        vertical-align: top;\n",
              "    }\n",
              "\n",
              "    .dataframe thead th {\n",
              "        text-align: right;\n",
              "    }\n",
              "</style>\n",
              "<table border=\"1\" class=\"dataframe\">\n",
              "  <thead>\n",
              "    <tr style=\"text-align: right;\">\n",
              "      <th></th>\n",
              "      <th>Age</th>\n",
              "      <th>Sex</th>\n",
              "      <th>BMI</th>\n",
              "      <th>Map</th>\n",
              "      <th>TC</th>\n",
              "      <th>LDL</th>\n",
              "      <th>HDL</th>\n",
              "      <th>TCH</th>\n",
              "      <th>LTG</th>\n",
              "      <th>GLU</th>\n",
              "    </tr>\n",
              "  </thead>\n",
              "  <tbody>\n",
              "    <tr>\n",
              "      <th>0</th>\n",
              "      <td>0.038076</td>\n",
              "      <td>0.050680</td>\n",
              "      <td>0.061696</td>\n",
              "      <td>0.021872</td>\n",
              "      <td>-0.044223</td>\n",
              "      <td>-0.034821</td>\n",
              "      <td>-0.043401</td>\n",
              "      <td>-0.002592</td>\n",
              "      <td>0.019908</td>\n",
              "      <td>-0.017646</td>\n",
              "    </tr>\n",
              "    <tr>\n",
              "      <th>1</th>\n",
              "      <td>-0.001882</td>\n",
              "      <td>-0.044642</td>\n",
              "      <td>-0.051474</td>\n",
              "      <td>-0.026328</td>\n",
              "      <td>-0.008449</td>\n",
              "      <td>-0.019163</td>\n",
              "      <td>0.074412</td>\n",
              "      <td>-0.039493</td>\n",
              "      <td>-0.068330</td>\n",
              "      <td>-0.092204</td>\n",
              "    </tr>\n",
              "    <tr>\n",
              "      <th>2</th>\n",
              "      <td>0.085299</td>\n",
              "      <td>0.050680</td>\n",
              "      <td>0.044451</td>\n",
              "      <td>-0.005671</td>\n",
              "      <td>-0.045599</td>\n",
              "      <td>-0.034194</td>\n",
              "      <td>-0.032356</td>\n",
              "      <td>-0.002592</td>\n",
              "      <td>0.002864</td>\n",
              "      <td>-0.025930</td>\n",
              "    </tr>\n",
              "    <tr>\n",
              "      <th>3</th>\n",
              "      <td>-0.089063</td>\n",
              "      <td>-0.044642</td>\n",
              "      <td>-0.011595</td>\n",
              "      <td>-0.036656</td>\n",
              "      <td>0.012191</td>\n",
              "      <td>0.024991</td>\n",
              "      <td>-0.036038</td>\n",
              "      <td>0.034309</td>\n",
              "      <td>0.022692</td>\n",
              "      <td>-0.009362</td>\n",
              "    </tr>\n",
              "    <tr>\n",
              "      <th>4</th>\n",
              "      <td>0.005383</td>\n",
              "      <td>-0.044642</td>\n",
              "      <td>-0.036385</td>\n",
              "      <td>0.021872</td>\n",
              "      <td>0.003935</td>\n",
              "      <td>0.015596</td>\n",
              "      <td>0.008142</td>\n",
              "      <td>-0.002592</td>\n",
              "      <td>-0.031991</td>\n",
              "      <td>-0.046641</td>\n",
              "    </tr>\n",
              "  </tbody>\n",
              "</table>\n",
              "</div>"
            ],
            "text/plain": [
              "        Age       Sex       BMI       Map        TC       LDL       HDL  \\\n",
              "0  0.038076  0.050680  0.061696  0.021872 -0.044223 -0.034821 -0.043401   \n",
              "1 -0.001882 -0.044642 -0.051474 -0.026328 -0.008449 -0.019163  0.074412   \n",
              "2  0.085299  0.050680  0.044451 -0.005671 -0.045599 -0.034194 -0.032356   \n",
              "3 -0.089063 -0.044642 -0.011595 -0.036656  0.012191  0.024991 -0.036038   \n",
              "4  0.005383 -0.044642 -0.036385  0.021872  0.003935  0.015596  0.008142   \n",
              "\n",
              "        TCH       LTG       GLU  \n",
              "0 -0.002592  0.019908 -0.017646  \n",
              "1 -0.039493 -0.068330 -0.092204  \n",
              "2 -0.002592  0.002864 -0.025930  \n",
              "3  0.034309  0.022692 -0.009362  \n",
              "4 -0.002592 -0.031991 -0.046641  "
            ]
          },
          "metadata": {
            "tags": []
          },
          "execution_count": 14
        }
      ]
    },
    {
      "metadata": {
        "id": "PaO-54J2J8nm",
        "colab_type": "code",
        "colab": {
          "base_uri": "https://localhost:8080/",
          "height": 204
        },
        "outputId": "a749df00-ed3b-4add-f293-0e6628a19442"
      },
      "cell_type": "code",
      "source": [
        "df.tail()"
      ],
      "execution_count": 15,
      "outputs": [
        {
          "output_type": "execute_result",
          "data": {
            "text/html": [
              "<div>\n",
              "<style scoped>\n",
              "    .dataframe tbody tr th:only-of-type {\n",
              "        vertical-align: middle;\n",
              "    }\n",
              "\n",
              "    .dataframe tbody tr th {\n",
              "        vertical-align: top;\n",
              "    }\n",
              "\n",
              "    .dataframe thead th {\n",
              "        text-align: right;\n",
              "    }\n",
              "</style>\n",
              "<table border=\"1\" class=\"dataframe\">\n",
              "  <thead>\n",
              "    <tr style=\"text-align: right;\">\n",
              "      <th></th>\n",
              "      <th>Age</th>\n",
              "      <th>Sex</th>\n",
              "      <th>BMI</th>\n",
              "      <th>Map</th>\n",
              "      <th>TC</th>\n",
              "      <th>LDL</th>\n",
              "      <th>HDL</th>\n",
              "      <th>TCH</th>\n",
              "      <th>LTG</th>\n",
              "      <th>GLU</th>\n",
              "    </tr>\n",
              "  </thead>\n",
              "  <tbody>\n",
              "    <tr>\n",
              "      <th>437</th>\n",
              "      <td>0.041708</td>\n",
              "      <td>0.050680</td>\n",
              "      <td>0.019662</td>\n",
              "      <td>0.059744</td>\n",
              "      <td>-0.005697</td>\n",
              "      <td>-0.002566</td>\n",
              "      <td>-0.028674</td>\n",
              "      <td>-0.002592</td>\n",
              "      <td>0.031193</td>\n",
              "      <td>0.007207</td>\n",
              "    </tr>\n",
              "    <tr>\n",
              "      <th>438</th>\n",
              "      <td>-0.005515</td>\n",
              "      <td>0.050680</td>\n",
              "      <td>-0.015906</td>\n",
              "      <td>-0.067642</td>\n",
              "      <td>0.049341</td>\n",
              "      <td>0.079165</td>\n",
              "      <td>-0.028674</td>\n",
              "      <td>0.034309</td>\n",
              "      <td>-0.018118</td>\n",
              "      <td>0.044485</td>\n",
              "    </tr>\n",
              "    <tr>\n",
              "      <th>439</th>\n",
              "      <td>0.041708</td>\n",
              "      <td>0.050680</td>\n",
              "      <td>-0.015906</td>\n",
              "      <td>0.017282</td>\n",
              "      <td>-0.037344</td>\n",
              "      <td>-0.013840</td>\n",
              "      <td>-0.024993</td>\n",
              "      <td>-0.011080</td>\n",
              "      <td>-0.046879</td>\n",
              "      <td>0.015491</td>\n",
              "    </tr>\n",
              "    <tr>\n",
              "      <th>440</th>\n",
              "      <td>-0.045472</td>\n",
              "      <td>-0.044642</td>\n",
              "      <td>0.039062</td>\n",
              "      <td>0.001215</td>\n",
              "      <td>0.016318</td>\n",
              "      <td>0.015283</td>\n",
              "      <td>-0.028674</td>\n",
              "      <td>0.026560</td>\n",
              "      <td>0.044528</td>\n",
              "      <td>-0.025930</td>\n",
              "    </tr>\n",
              "    <tr>\n",
              "      <th>441</th>\n",
              "      <td>-0.045472</td>\n",
              "      <td>-0.044642</td>\n",
              "      <td>-0.073030</td>\n",
              "      <td>-0.081414</td>\n",
              "      <td>0.083740</td>\n",
              "      <td>0.027809</td>\n",
              "      <td>0.173816</td>\n",
              "      <td>-0.039493</td>\n",
              "      <td>-0.004220</td>\n",
              "      <td>0.003064</td>\n",
              "    </tr>\n",
              "  </tbody>\n",
              "</table>\n",
              "</div>"
            ],
            "text/plain": [
              "          Age       Sex       BMI       Map        TC       LDL       HDL  \\\n",
              "437  0.041708  0.050680  0.019662  0.059744 -0.005697 -0.002566 -0.028674   \n",
              "438 -0.005515  0.050680 -0.015906 -0.067642  0.049341  0.079165 -0.028674   \n",
              "439  0.041708  0.050680 -0.015906  0.017282 -0.037344 -0.013840 -0.024993   \n",
              "440 -0.045472 -0.044642  0.039062  0.001215  0.016318  0.015283 -0.028674   \n",
              "441 -0.045472 -0.044642 -0.073030 -0.081414  0.083740  0.027809  0.173816   \n",
              "\n",
              "          TCH       LTG       GLU  \n",
              "437 -0.002592  0.031193  0.007207  \n",
              "438  0.034309 -0.018118  0.044485  \n",
              "439 -0.011080 -0.046879  0.015491  \n",
              "440  0.026560  0.044528 -0.025930  \n",
              "441 -0.039493 -0.004220  0.003064  "
            ]
          },
          "metadata": {
            "tags": []
          },
          "execution_count": 15
        }
      ]
    },
    {
      "metadata": {
        "id": "oSiyOecVKBbc",
        "colab_type": "code",
        "colab": {}
      },
      "cell_type": "code",
      "source": [
        "y=diabetes.target"
      ],
      "execution_count": 0,
      "outputs": []
    },
    {
      "metadata": {
        "id": "x4sQxJ2aKt0e",
        "colab_type": "code",
        "colab": {}
      },
      "cell_type": "code",
      "source": [
        "#create training test variebles\n",
        "X_train,X_test,y_train,y_test=train_test_split(df,y,test_size=0.2)\n",
        "#here only train set nd test set is used \n",
        "#validation set is not used here "
      ],
      "execution_count": 0,
      "outputs": []
    },
    {
      "metadata": {
        "id": "8oICQu7EL4PC",
        "colab_type": "code",
        "colab": {
          "base_uri": "https://localhost:8080/",
          "height": 34
        },
        "outputId": "b1c483e5-57e3-4b50-dbd2-ba66781d23d4"
      },
      "cell_type": "code",
      "source": [
        "print(X_train.shape,y_train.shape)"
      ],
      "execution_count": 20,
      "outputs": [
        {
          "output_type": "stream",
          "text": [
            "(353, 10) (353,)\n"
          ],
          "name": "stdout"
        }
      ]
    },
    {
      "metadata": {
        "id": "AC7RQF0xMNSe",
        "colab_type": "code",
        "colab": {
          "base_uri": "https://localhost:8080/",
          "height": 561
        },
        "outputId": "c619fd12-73d3-4d9f-972e-837be6dc866a"
      },
      "cell_type": "code",
      "source": [
        "print(y)"
      ],
      "execution_count": 21,
      "outputs": [
        {
          "output_type": "stream",
          "text": [
            "[151.  75. 141. 206. 135.  97. 138.  63. 110. 310. 101.  69. 179. 185.\n",
            " 118. 171. 166. 144.  97. 168.  68.  49.  68. 245. 184. 202. 137.  85.\n",
            " 131. 283. 129.  59. 341.  87.  65. 102. 265. 276. 252.  90. 100.  55.\n",
            "  61.  92. 259.  53. 190. 142.  75. 142. 155. 225.  59. 104. 182. 128.\n",
            "  52.  37. 170. 170.  61. 144.  52. 128.  71. 163. 150.  97. 160. 178.\n",
            "  48. 270. 202. 111.  85.  42. 170. 200. 252. 113. 143.  51.  52. 210.\n",
            "  65. 141.  55. 134.  42. 111.  98. 164.  48.  96.  90. 162. 150. 279.\n",
            "  92.  83. 128. 102. 302. 198.  95.  53. 134. 144. 232.  81. 104.  59.\n",
            " 246. 297. 258. 229. 275. 281. 179. 200. 200. 173. 180.  84. 121. 161.\n",
            "  99. 109. 115. 268. 274. 158. 107.  83. 103. 272.  85. 280. 336. 281.\n",
            " 118. 317. 235.  60. 174. 259. 178. 128.  96. 126. 288.  88. 292.  71.\n",
            " 197. 186.  25.  84.  96. 195.  53. 217. 172. 131. 214.  59.  70. 220.\n",
            " 268. 152.  47.  74. 295. 101. 151. 127. 237. 225.  81. 151. 107.  64.\n",
            " 138. 185. 265. 101. 137. 143. 141.  79. 292. 178.  91. 116.  86. 122.\n",
            "  72. 129. 142.  90. 158.  39. 196. 222. 277.  99. 196. 202. 155.  77.\n",
            " 191.  70.  73.  49.  65. 263. 248. 296. 214. 185.  78.  93. 252. 150.\n",
            "  77. 208.  77. 108. 160.  53. 220. 154. 259.  90. 246. 124.  67.  72.\n",
            " 257. 262. 275. 177.  71.  47. 187. 125.  78.  51. 258. 215. 303. 243.\n",
            "  91. 150. 310. 153. 346.  63.  89.  50.  39. 103. 308. 116. 145.  74.\n",
            "  45. 115. 264.  87. 202. 127. 182. 241.  66.  94. 283.  64. 102. 200.\n",
            " 265.  94. 230. 181. 156. 233.  60. 219.  80.  68. 332. 248.  84. 200.\n",
            "  55.  85.  89.  31. 129.  83. 275.  65. 198. 236. 253. 124.  44. 172.\n",
            " 114. 142. 109. 180. 144. 163. 147.  97. 220. 190. 109. 191. 122. 230.\n",
            " 242. 248. 249. 192. 131. 237.  78. 135. 244. 199. 270. 164.  72.  96.\n",
            " 306.  91. 214.  95. 216. 263. 178. 113. 200. 139. 139.  88. 148.  88.\n",
            " 243.  71.  77. 109. 272.  60.  54. 221.  90. 311. 281. 182. 321.  58.\n",
            " 262. 206. 233. 242. 123. 167.  63. 197.  71. 168. 140. 217. 121. 235.\n",
            " 245.  40.  52. 104. 132.  88.  69. 219.  72. 201. 110.  51. 277.  63.\n",
            " 118.  69. 273. 258.  43. 198. 242. 232. 175.  93. 168. 275. 293. 281.\n",
            "  72. 140. 189. 181. 209. 136. 261. 113. 131. 174. 257.  55.  84.  42.\n",
            " 146. 212. 233.  91. 111. 152. 120.  67. 310.  94. 183.  66. 173.  72.\n",
            "  49.  64.  48. 178. 104. 132. 220.  57.]\n"
          ],
          "name": "stdout"
        }
      ]
    },
    {
      "metadata": {
        "id": "7d7BXE1iNM8H",
        "colab_type": "code",
        "colab": {
          "base_uri": "https://localhost:8080/",
          "height": 323
        },
        "outputId": "29e66396-0a47-4c1f-d91c-5680441e9214"
      },
      "cell_type": "code",
      "source": [
        "lm=linear_model.LinearRegression()\n",
        "model=lm.fit(X_train,y_train)\n",
        "predictions=model.predict(X_test)\n",
        "print(predictions)#linear model"
      ],
      "execution_count": 25,
      "outputs": [
        {
          "output_type": "stream",
          "text": [
            "[110.29566276  76.64783864 134.22638861 192.42572106 123.46963134\n",
            " 162.16909943 177.49141424 169.39544818 236.65892762 157.4073093\n",
            "  94.91212061 184.43900829 147.52430085 234.14917493  68.44809806\n",
            " 120.72045203 162.74718286 180.24270178 151.80415819 194.76451495\n",
            "  88.4135976   78.07449799 175.56887609 122.02344691  69.59395732\n",
            "  58.79124731 233.93126549 141.3667371  176.52646185 198.34792455\n",
            " 115.56105724 166.86376962 135.56146339 191.17823298 156.46129302\n",
            "  76.10747967 119.00786464  58.239508   118.24107424 132.79400376\n",
            " 122.87127834 180.54025035  95.78345524 113.59493546 147.49692863\n",
            " 164.34491167 183.34283913 256.02879663 116.94372171 144.81648965\n",
            "  90.97672273 227.05547146 101.26647512 163.91918387 146.05676691\n",
            " 145.49687153 107.79198869  86.42297224 186.57711238 174.75832094\n",
            "  77.05352907 193.53146279 150.17857413  57.85970101 156.4832709\n",
            "  81.25581117  62.36744201 175.89976301 200.72294822 101.3107135\n",
            "  75.16316009 214.07411018  80.92503742 124.30403365 174.05033691\n",
            " 140.17729382 148.00878982  99.20036305 226.93599173 105.85889867\n",
            " 204.07313023 262.29756564 145.87146966 106.66631433 121.50543101\n",
            " 130.92201351 189.91174061 237.79271455 147.15134206]\n"
          ],
          "name": "stdout"
        }
      ]
    },
    {
      "metadata": {
        "id": "ne57zs1gPsxj",
        "colab_type": "code",
        "colab": {
          "base_uri": "https://localhost:8080/",
          "height": 51
        },
        "outputId": "00f7807c-8efd-4a25-d869-fdc0c99adc89"
      },
      "cell_type": "code",
      "source": [
        "#to see how accurate our model is \n",
        "print(\"\\nSCORE\",model.score(X_test,y_test))"
      ],
      "execution_count": 26,
      "outputs": [
        {
          "output_type": "stream",
          "text": [
            "\n",
            "SCORE 0.49398487611929764\n"
          ],
          "name": "stdout"
        }
      ]
    },
    {
      "metadata": {
        "id": "y1PUMk8-U1Pw",
        "colab_type": "code",
        "colab": {
          "base_uri": "https://localhost:8080/",
          "height": 34
        },
        "outputId": "9c6b4d1d-2849-44ae-f99c-2995419ea0ad"
      },
      "cell_type": "code",
      "source": [
        "#HERE THE PARAMETERS ARE SAME SO THE SCORE IS 100%\n",
        "print(\"SCORE\",model.score(X_test,predictions))"
      ],
      "execution_count": 27,
      "outputs": [
        {
          "output_type": "stream",
          "text": [
            "SCORE 1.0\n"
          ],
          "name": "stdout"
        }
      ]
    },
    {
      "metadata": {
        "id": "DDkZHBZvVEQf",
        "colab_type": "code",
        "colab": {
          "base_uri": "https://localhost:8080/",
          "height": 34
        },
        "outputId": "02bb02e3-696d-461e-950a-f9ca72bac75a"
      },
      "cell_type": "code",
      "source": [
        "#KFLOD SPLIT EXAMPLE\n",
        "x=ny.array([[1,2],[3,4],[1,2],[3,4]])\n",
        "y=ny.array([1,2,3,4])\n",
        "kf=KFold(n_splits=2)\n",
        "kf.get_n_splits(x)\n",
        "print(kf)\n",
        "#print(x)\n",
        "#we r basically using kfold to split the entire set of examples into no. of batches "
      ],
      "execution_count": 32,
      "outputs": [
        {
          "output_type": "stream",
          "text": [
            "KFold(n_splits=2, random_state=None, shuffle=False)\n"
          ],
          "name": "stdout"
        }
      ]
    },
    {
      "metadata": {
        "id": "3HU8mg-5Wk6z",
        "colab_type": "code",
        "colab": {
          "base_uri": "https://localhost:8080/",
          "height": 51
        },
        "outputId": "54fef6b2-0ed7-4a36-85ef-9e3662032b50"
      },
      "cell_type": "code",
      "source": [
        "for train_index,test_index in kf.split(x):\n",
        "  print(\"TRAIN: \",train_index,\"TEST: \",test_index)\n",
        "  X_trian,X_test=x[train_index],x[test_index]\n",
        "  y_train,y_test=y[train_index],y[test_index]"
      ],
      "execution_count": 36,
      "outputs": [
        {
          "output_type": "stream",
          "text": [
            "TRAIN:  [2 3] TEST:  [0 1]\n",
            "TRAIN:  [0 1] TEST:  [2 3]\n"
          ],
          "name": "stdout"
        }
      ]
    },
    {
      "metadata": {
        "id": "FUeIvbAbZFca",
        "colab_type": "code",
        "colab": {}
      },
      "cell_type": "code",
      "source": [
        ""
      ],
      "execution_count": 0,
      "outputs": []
    }
  ]
}