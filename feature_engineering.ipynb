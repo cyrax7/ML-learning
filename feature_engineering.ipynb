{
  "nbformat": 4,
  "nbformat_minor": 0,
  "metadata": {
    "colab": {
      "name": "feature_engineering.ipynb",
      "version": "0.3.2",
      "provenance": [],
      "include_colab_link": true
    },
    "kernelspec": {
      "name": "python3",
      "display_name": "Python 3"
    }
  },
  "cells": [
    {
      "cell_type": "markdown",
      "metadata": {
        "id": "view-in-github",
        "colab_type": "text"
      },
      "source": [
        "[View in Colaboratory](https://colab.research.google.com/github/rupamcyrax799/ML-learning/blob/master/feature_engineering.ipynb)"
      ]
    },
    {
      "metadata": {
        "id": "3xkS-4Zbz7NH",
        "colab_type": "code",
        "colab": {}
      },
      "cell_type": "code",
      "source": [
        "#importing libraries\n",
        "import numpy as np\n",
        "import pandas as pd\n",
        "import matplotlib.pyplot as plt\n",
        "import seaborn as sns\n",
        "\n",
        "#importing test and train data set\n",
        "train = pd.read_csv(\"train_HK6lq50.csv\")\n",
        "test = pd.read_csv(\"test_2nAIblo.csv\")\n",
        "\n",
        "#replacing NaNs of trainee_engagement_rating by the mean of trainee_rating for that specific trainee\n",
        "train['trainee_engagement_rating'] = train.groupby('trainee_id')['trainee_engagement_rating']\\\n",
        "                                    .apply(lambda x: x.fillna(x.mean()))\n",
        "train['trainee_engagement_rating'] = train['trainee_engagement_rating'].fillna(train['trainee_engagement_rating']\\\n",
        "                                    .mean())\n",
        "\n",
        "test['trainee_engagement_rating'] = test.groupby('trainee_id')['trainee_engagement_rating'].apply(lambda x: x.fillna(x.mean()))\n",
        "test['trainee_engagement_rating'] = test['trainee_engagement_rating'].fillna(test['trainee_engagement_rating'].mean())\n",
        "\n",
        "train['trainee_engagement_rating'] = train['trainee_engagement_rating'].astype(int)\n",
        "test['trainee_engagement_rating'] = test['trainee_engagement_rating'].astype(int)\n",
        "\n",
        "#change program_id from X_1 to 1\n",
        "train['program_id'] = [x[-1] for x in train.program_id ]\n",
        "test['program_id'] = [x[-1] for x in test.program_id ]\n",
        "\n",
        "train['age'] = train['age'].fillna(train['age'].mean())\n",
        "test['age'] = test['age'].fillna(train['age'].mean())\n",
        "#train['age'] = train['age'].replace(to_replace = np.nan, value = -1)\n",
        "#test['age'] = test['age'].replace(to_replace = np.nan, value = -1) \n",
        "train['age'] = train['age'].astype(int)\n",
        "test['age'] = test['age'].astype(int)\n",
        "\n",
        "train.drop(['id'], axis=1, inplace=True)\n",
        "test.drop(['id'], axis=1, inplace=True)"
      ],
      "execution_count": 0,
      "outputs": []
    },
    {
      "metadata": {
        "id": "e1xpN99az-ot",
        "colab_type": "code",
        "colab": {}
      },
      "cell_type": "code",
      "source": [
        "#define X and y\n",
        "X = train\n",
        "y = train.is_pass\n",
        "X = train.drop(['is_pass'],axis = 1)\n",
        "\n",
        "#train catboost model with categorical features on X,y\n",
        "from sklearn.metrics import roc_auc_score\n",
        "from catboost import CatBoostClassifier\n",
        "categorical_features_indices = [0,1,2,3,4,5,6,7,8,9,10,11,12,13]\n",
        "\n",
        "model=CatBoostClassifier(iterations=1020, depth=6, learning_rate=0.06, loss_function= 'Logloss')\n",
        "model.fit(X, y,cat_features=categorical_features_indices,plot=True)\n",
        "#model.fit(X_train, y_train,cat_features=categorical_features_indices,eval_set=(X_test,y_test),plot=True)\n",
        "#pred=model.predict_proba(X_test)[:,1]\n",
        "#score = roc_auc_score(y_test,pred)\n",
        "#print('roc_auc_score',score)\n",
        "\n",
        "#predict probabilities of is_pass\n",
        "pred=model.predict_proba(test)[:,1]\n",
        "\n",
        "#create a csv submission file\n",
        "submission=pd.read_csv(\"sample_submission_vaSxamm.csv\")\n",
        "submission['is_pass']=pred\n",
        "submission.to_csv('agemean_cb_cf14_610206+.csv', index=False)"
      ],
      "execution_count": 0,
      "outputs": []
    }
  ]
}